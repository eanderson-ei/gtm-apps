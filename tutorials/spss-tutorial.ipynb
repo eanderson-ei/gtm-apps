{
  "nbformat": 4,
  "nbformat_minor": 0,
  "metadata": {
    "colab": {
      "provenance": [],
      "collapsed_sections": []
    },
    "kernelspec": {
      "name": "python3",
      "display_name": "Python 3"
    },
    "language_info": {
      "name": "python"
    }
  },
  "cells": [
    {
      "cell_type": "markdown",
      "source": [
        "# Python Tutorial: Reading Guatemala Census Data\n",
        "This tutorial will walk you through the process of reading data provided in the \n",
        "SPSS format (.sav), a common data format for government data. When possible,\n",
        "it is best to access data as comma-separated values (.csv), however not all \n",
        "data sources are provided in this format.\n",
        "\n",
        "## Reading SPSS data on USAID-furnished equipment\n",
        "Your USAID-issued laptop does not have access to SPSS, a paid statistical\n",
        "software package. Luckily, it's easy enough to access the data using Python.\n",
        "\n",
        "## Using Python on USAID-furnished equipment\n",
        "You also are not authorized to install Python, a popular open-source\n",
        "scripting language, on your USAID-furnished computer. [Google Colab](https://colab.research.google.com/)\n",
        "is a great option for running Python on the cloud. \n",
        "\n",
        "Let's begin!"
      ],
      "metadata": {
        "id": "c_IGtPxTNKwe"
      }
    },
    {
      "cell_type": "markdown",
      "source": [
        "## Install necessary packages\n",
        "The first thing we'll do is install the libraries we need. Libraries extend \n",
        "Python to make our work easier. There are many libraries available. You will\n",
        "often discover which libraries you need by searching the internet for \n",
        "solutions to your problem.\n",
        "\n",
        "Let's install `pyreadstat`, a special package for reading SPSS files."
      ],
      "metadata": {
        "id": "C-BoYJ1rOcW3"
      }
    },
    {
      "cell_type": "code",
      "execution_count": null,
      "metadata": {
        "colab": {
          "base_uri": "https://localhost:8080/"
        },
        "id": "uS0LwLsfKnGL",
        "outputId": "9c99cb22-5143-4c9a-b905-ba01b91da9f0"
      },
      "outputs": [
        {
          "output_type": "stream",
          "name": "stdout",
          "text": [
            "Looking in indexes: https://pypi.org/simple, https://us-python.pkg.dev/colab-wheels/public/simple/\n",
            "Requirement already satisfied: pyreadstat in /usr/local/lib/python3.7/dist-packages (1.1.9)\n",
            "Requirement already satisfied: pandas>=1.2.0 in /usr/local/lib/python3.7/dist-packages (from pyreadstat) (1.3.5)\n",
            "Requirement already satisfied: numpy>=1.17.3 in /usr/local/lib/python3.7/dist-packages (from pandas>=1.2.0->pyreadstat) (1.21.6)\n",
            "Requirement already satisfied: python-dateutil>=2.7.3 in /usr/local/lib/python3.7/dist-packages (from pandas>=1.2.0->pyreadstat) (2.8.2)\n",
            "Requirement already satisfied: pytz>=2017.3 in /usr/local/lib/python3.7/dist-packages (from pandas>=1.2.0->pyreadstat) (2022.2.1)\n",
            "Requirement already satisfied: six>=1.5 in /usr/local/lib/python3.7/dist-packages (from python-dateutil>=2.7.3->pandas>=1.2.0->pyreadstat) (1.15.0)\n"
          ]
        }
      ],
      "source": [
        "!pip install pyreadstat"
      ]
    },
    {
      "cell_type": "markdown",
      "source": [
        "## Import packages\n",
        "Next we'll import `pyreadstat` and another package, `pandas` to help us read \n",
        "the data. You'll notice that we don't need to install `pandas`. That is \n",
        "because it is already installed by Google Colab. You'll use `pandas` a lot\n",
        "when working with data. Also note that we rename the library to `pd` when we\n",
        "import it to save us typing the full name each time we use it. "
      ],
      "metadata": {
        "id": "GZkA2QHfPHUS"
      }
    },
    {
      "cell_type": "code",
      "source": [
        "import pyreadstat\n",
        "import pandas as pd"
      ],
      "metadata": {
        "id": "OZGrtbkRKoeF"
      },
      "execution_count": null,
      "outputs": []
    },
    {
      "cell_type": "markdown",
      "source": [
        "## Upload data to Google Colab\n",
        "Colab does not have access to your file system. Instead, you need to upload data\n",
        "to Colab before you can access it. After downloading the data in the SPSS \n",
        "format (it should have the `.sav` file extension), use the file uploader\n",
        "to upload it here.\n",
        "\n",
        "In the left sidebar, click the folder icon. Next, click the file upload icon\n",
        "(it looks like a file with an up arrow). Navigate to the file on your local \n",
        "directory and click **Open**. \n",
        "\n",
        "If you have multiple files, you can upload them now."
      ],
      "metadata": {
        "id": "2tUkTQndPn5Q"
      }
    },
    {
      "cell_type": "markdown",
      "source": [
        "## Read in the data\n",
        "Now we're ready to read in the data. Review the documentation of `pyreadstat` to find the right method and how to use it when reading SPSS data. \n",
        "\n",
        "You can find the documentation for `pyreadstat`'s `read_sav` method [here](https://ofajardo.github.io/pyreadstat_documentation/_build/html/index.html#pyreadstat.pyreadstat.read_sav). \n",
        "\n",
        "Note that it includes many optional parameters and returns two objects, \n",
        "a `pandas DataFrame` and a metadata object. "
      ],
      "metadata": {
        "id": "Ve4uL9fCQVs5"
      }
    },
    {
      "cell_type": "code",
      "source": [
        "viviendas_df, viviendas_meta = pyreadstat.read_sav(\"01_VIVIENDAS_2002.sav\")"
      ],
      "metadata": {
        "id": "3lajOQu5MxhQ"
      },
      "execution_count": null,
      "outputs": []
    },
    {
      "cell_type": "markdown",
      "source": [
        "Let's peek at the data to see what we got."
      ],
      "metadata": {
        "id": "1qPycFYLSQg7"
      }
    },
    {
      "cell_type": "code",
      "source": [
        "viviendas_df.head()"
      ],
      "metadata": {
        "colab": {
          "base_uri": "https://localhost:8080/",
          "height": 206
        },
        "id": "TE0-4QtdKuce",
        "outputId": "9cf43e6f-77ee-4180-cc24-50d89f7f4d1b"
      },
      "execution_count": null,
      "outputs": [
        {
          "output_type": "execute_result",
          "data": {
            "text/plain": [
              "   DEPARTAMENTO  MUNICIPIO  URBRUR  NUMVIV  AREA  V01  V02  V03  V04  V05  \\\n",
              "0           1.0      101.0     1.0     1.0   1.0  1.0  1.0  1.0  5.0  NaN   \n",
              "1           1.0      111.0     2.0     2.0   1.0  1.0  1.0  1.0  5.0  NaN   \n",
              "2           1.0      113.0     1.0     3.0   1.0  1.0  2.0  1.0  5.0  NaN   \n",
              "3           1.0      101.0     1.0     4.0   1.0  1.0  2.0  1.0  5.0  NaN   \n",
              "4           1.0      101.0     1.0     5.0   1.0  1.0  2.0  1.0  5.0  NaN   \n",
              "\n",
              "   IH01  IH02  IH03  \n",
              "0   NaN   NaN   NaN  \n",
              "1   NaN   NaN   NaN  \n",
              "2   NaN   NaN   NaN  \n",
              "3   NaN   NaN   NaN  \n",
              "4   NaN   NaN   NaN  "
            ],
            "text/html": [
              "\n",
              "  <div id=\"df-1f93049f-7efb-4587-a4d4-936738b9561a\">\n",
              "    <div class=\"colab-df-container\">\n",
              "      <div>\n",
              "<style scoped>\n",
              "    .dataframe tbody tr th:only-of-type {\n",
              "        vertical-align: middle;\n",
              "    }\n",
              "\n",
              "    .dataframe tbody tr th {\n",
              "        vertical-align: top;\n",
              "    }\n",
              "\n",
              "    .dataframe thead th {\n",
              "        text-align: right;\n",
              "    }\n",
              "</style>\n",
              "<table border=\"1\" class=\"dataframe\">\n",
              "  <thead>\n",
              "    <tr style=\"text-align: right;\">\n",
              "      <th></th>\n",
              "      <th>DEPARTAMENTO</th>\n",
              "      <th>MUNICIPIO</th>\n",
              "      <th>URBRUR</th>\n",
              "      <th>NUMVIV</th>\n",
              "      <th>AREA</th>\n",
              "      <th>V01</th>\n",
              "      <th>V02</th>\n",
              "      <th>V03</th>\n",
              "      <th>V04</th>\n",
              "      <th>V05</th>\n",
              "      <th>IH01</th>\n",
              "      <th>IH02</th>\n",
              "      <th>IH03</th>\n",
              "    </tr>\n",
              "  </thead>\n",
              "  <tbody>\n",
              "    <tr>\n",
              "      <th>0</th>\n",
              "      <td>1.0</td>\n",
              "      <td>101.0</td>\n",
              "      <td>1.0</td>\n",
              "      <td>1.0</td>\n",
              "      <td>1.0</td>\n",
              "      <td>1.0</td>\n",
              "      <td>1.0</td>\n",
              "      <td>1.0</td>\n",
              "      <td>5.0</td>\n",
              "      <td>NaN</td>\n",
              "      <td>NaN</td>\n",
              "      <td>NaN</td>\n",
              "      <td>NaN</td>\n",
              "    </tr>\n",
              "    <tr>\n",
              "      <th>1</th>\n",
              "      <td>1.0</td>\n",
              "      <td>111.0</td>\n",
              "      <td>2.0</td>\n",
              "      <td>2.0</td>\n",
              "      <td>1.0</td>\n",
              "      <td>1.0</td>\n",
              "      <td>1.0</td>\n",
              "      <td>1.0</td>\n",
              "      <td>5.0</td>\n",
              "      <td>NaN</td>\n",
              "      <td>NaN</td>\n",
              "      <td>NaN</td>\n",
              "      <td>NaN</td>\n",
              "    </tr>\n",
              "    <tr>\n",
              "      <th>2</th>\n",
              "      <td>1.0</td>\n",
              "      <td>113.0</td>\n",
              "      <td>1.0</td>\n",
              "      <td>3.0</td>\n",
              "      <td>1.0</td>\n",
              "      <td>1.0</td>\n",
              "      <td>2.0</td>\n",
              "      <td>1.0</td>\n",
              "      <td>5.0</td>\n",
              "      <td>NaN</td>\n",
              "      <td>NaN</td>\n",
              "      <td>NaN</td>\n",
              "      <td>NaN</td>\n",
              "    </tr>\n",
              "    <tr>\n",
              "      <th>3</th>\n",
              "      <td>1.0</td>\n",
              "      <td>101.0</td>\n",
              "      <td>1.0</td>\n",
              "      <td>4.0</td>\n",
              "      <td>1.0</td>\n",
              "      <td>1.0</td>\n",
              "      <td>2.0</td>\n",
              "      <td>1.0</td>\n",
              "      <td>5.0</td>\n",
              "      <td>NaN</td>\n",
              "      <td>NaN</td>\n",
              "      <td>NaN</td>\n",
              "      <td>NaN</td>\n",
              "    </tr>\n",
              "    <tr>\n",
              "      <th>4</th>\n",
              "      <td>1.0</td>\n",
              "      <td>101.0</td>\n",
              "      <td>1.0</td>\n",
              "      <td>5.0</td>\n",
              "      <td>1.0</td>\n",
              "      <td>1.0</td>\n",
              "      <td>2.0</td>\n",
              "      <td>1.0</td>\n",
              "      <td>5.0</td>\n",
              "      <td>NaN</td>\n",
              "      <td>NaN</td>\n",
              "      <td>NaN</td>\n",
              "      <td>NaN</td>\n",
              "    </tr>\n",
              "  </tbody>\n",
              "</table>\n",
              "</div>\n",
              "      <button class=\"colab-df-convert\" onclick=\"convertToInteractive('df-1f93049f-7efb-4587-a4d4-936738b9561a')\"\n",
              "              title=\"Convert this dataframe to an interactive table.\"\n",
              "              style=\"display:none;\">\n",
              "        \n",
              "  <svg xmlns=\"http://www.w3.org/2000/svg\" height=\"24px\"viewBox=\"0 0 24 24\"\n",
              "       width=\"24px\">\n",
              "    <path d=\"M0 0h24v24H0V0z\" fill=\"none\"/>\n",
              "    <path d=\"M18.56 5.44l.94 2.06.94-2.06 2.06-.94-2.06-.94-.94-2.06-.94 2.06-2.06.94zm-11 1L8.5 8.5l.94-2.06 2.06-.94-2.06-.94L8.5 2.5l-.94 2.06-2.06.94zm10 10l.94 2.06.94-2.06 2.06-.94-2.06-.94-.94-2.06-.94 2.06-2.06.94z\"/><path d=\"M17.41 7.96l-1.37-1.37c-.4-.4-.92-.59-1.43-.59-.52 0-1.04.2-1.43.59L10.3 9.45l-7.72 7.72c-.78.78-.78 2.05 0 2.83L4 21.41c.39.39.9.59 1.41.59.51 0 1.02-.2 1.41-.59l7.78-7.78 2.81-2.81c.8-.78.8-2.07 0-2.86zM5.41 20L4 18.59l7.72-7.72 1.47 1.35L5.41 20z\"/>\n",
              "  </svg>\n",
              "      </button>\n",
              "      \n",
              "  <style>\n",
              "    .colab-df-container {\n",
              "      display:flex;\n",
              "      flex-wrap:wrap;\n",
              "      gap: 12px;\n",
              "    }\n",
              "\n",
              "    .colab-df-convert {\n",
              "      background-color: #E8F0FE;\n",
              "      border: none;\n",
              "      border-radius: 50%;\n",
              "      cursor: pointer;\n",
              "      display: none;\n",
              "      fill: #1967D2;\n",
              "      height: 32px;\n",
              "      padding: 0 0 0 0;\n",
              "      width: 32px;\n",
              "    }\n",
              "\n",
              "    .colab-df-convert:hover {\n",
              "      background-color: #E2EBFA;\n",
              "      box-shadow: 0px 1px 2px rgba(60, 64, 67, 0.3), 0px 1px 3px 1px rgba(60, 64, 67, 0.15);\n",
              "      fill: #174EA6;\n",
              "    }\n",
              "\n",
              "    [theme=dark] .colab-df-convert {\n",
              "      background-color: #3B4455;\n",
              "      fill: #D2E3FC;\n",
              "    }\n",
              "\n",
              "    [theme=dark] .colab-df-convert:hover {\n",
              "      background-color: #434B5C;\n",
              "      box-shadow: 0px 1px 3px 1px rgba(0, 0, 0, 0.15);\n",
              "      filter: drop-shadow(0px 1px 2px rgba(0, 0, 0, 0.3));\n",
              "      fill: #FFFFFF;\n",
              "    }\n",
              "  </style>\n",
              "\n",
              "      <script>\n",
              "        const buttonEl =\n",
              "          document.querySelector('#df-1f93049f-7efb-4587-a4d4-936738b9561a button.colab-df-convert');\n",
              "        buttonEl.style.display =\n",
              "          google.colab.kernel.accessAllowed ? 'block' : 'none';\n",
              "\n",
              "        async function convertToInteractive(key) {\n",
              "          const element = document.querySelector('#df-1f93049f-7efb-4587-a4d4-936738b9561a');\n",
              "          const dataTable =\n",
              "            await google.colab.kernel.invokeFunction('convertToInteractive',\n",
              "                                                     [key], {});\n",
              "          if (!dataTable) return;\n",
              "\n",
              "          const docLinkHtml = 'Like what you see? Visit the ' +\n",
              "            '<a target=\"_blank\" href=https://colab.research.google.com/notebooks/data_table.ipynb>data table notebook</a>'\n",
              "            + ' to learn more about interactive tables.';\n",
              "          element.innerHTML = '';\n",
              "          dataTable['output_type'] = 'display_data';\n",
              "          await google.colab.output.renderOutput(dataTable, element);\n",
              "          const docLink = document.createElement('div');\n",
              "          docLink.innerHTML = docLinkHtml;\n",
              "          element.appendChild(docLink);\n",
              "        }\n",
              "      </script>\n",
              "    </div>\n",
              "  </div>\n",
              "  "
            ]
          },
          "metadata": {},
          "execution_count": 53
        }
      ]
    },
    {
      "cell_type": "code",
      "source": [
        "viviendas_meta"
      ],
      "metadata": {
        "colab": {
          "base_uri": "https://localhost:8080/"
        },
        "id": "B1B0v3bgKxga",
        "outputId": "da68eaf6-9513-44ac-e9b4-af06e9c0caf6"
      },
      "execution_count": null,
      "outputs": [
        {
          "output_type": "execute_result",
          "data": {
            "text/plain": [
              "<pyreadstat._readstat_parser.metadata_container at 0x7f5e56d0fdd0>"
            ]
          },
          "metadata": {},
          "execution_count": 54
        }
      ]
    },
    {
      "cell_type": "markdown",
      "source": [
        "We can see a nice data table (also called a `pandas DataFrame`) is storred in \n",
        "the `viviendas_df` table. The `head` method returns only the top 5 rows.\n",
        "\n",
        "However, the headers and the data appear to be encoded. These encodings are\n",
        "probably stored in the metadata file. However, when we look at that variable\n",
        "we get a metadata container object that isn't very helpful.\n",
        "\n",
        "Let's check out the [documentation](https://ofajardo.github.io/pyreadstat_documentation/_build/html/index.html#metadata-object-description) to see how to use the metadata.\n",
        "\n",
        "Here we see how to access notes, column headers, and variable codes. Let's \n",
        "check it out."
      ],
      "metadata": {
        "id": "B939yE1kSf4-"
      }
    },
    {
      "cell_type": "code",
      "source": [
        "viviendas_meta.notes"
      ],
      "metadata": {
        "colab": {
          "base_uri": "https://localhost:8080/"
        },
        "id": "Q-CD8Gc6SbcQ",
        "outputId": "3e53037e-4ddc-41b6-8606-3f6b104b2cae"
      },
      "execution_count": null,
      "outputs": [
        {
          "output_type": "execute_result",
          "data": {
            "text/plain": [
              "[]"
            ]
          },
          "metadata": {},
          "execution_count": 55
        }
      ]
    },
    {
      "cell_type": "code",
      "source": [
        "viviendas_meta.column_names_to_labels"
      ],
      "metadata": {
        "colab": {
          "base_uri": "https://localhost:8080/"
        },
        "id": "mvyC0J-_Tbm3",
        "outputId": "4f1951db-a83b-476f-f4f9-6c8a3237aeb2"
      },
      "execution_count": null,
      "outputs": [
        {
          "output_type": "execute_result",
          "data": {
            "text/plain": [
              "{'DEPARTAMENTO': 'Departamento',\n",
              " 'MUNICIPIO': 'Municipio',\n",
              " 'URBRUR': 'URBRUR',\n",
              " 'NUMVIV': 'NUMVIV',\n",
              " 'AREA': 'AREA',\n",
              " 'V01': 'Tipo del local de habitación',\n",
              " 'V02': 'Material predominante en las paredes exteriores',\n",
              " 'V03': 'Material predominante en el techo',\n",
              " 'V04': 'Local de habitación  esta:',\n",
              " 'V05': 'Material predominante en el piso',\n",
              " 'IH01': 'Cuántas personas viven en el local de habitación',\n",
              " 'IH02': 'Estan personas preparan por separado los alimentos',\n",
              " 'IH03': 'Cuántos grupos de personas preparan sus alimentos por separado'}"
            ]
          },
          "metadata": {},
          "execution_count": 56
        }
      ]
    },
    {
      "cell_type": "code",
      "source": [
        "viviendas_meta.variable_value_labels['URBRUR']"
      ],
      "metadata": {
        "colab": {
          "base_uri": "https://localhost:8080/"
        },
        "id": "hFV5mNeCTy_C",
        "outputId": "697a1f4a-a063-4474-9595-c9e6e04981b2"
      },
      "execution_count": null,
      "outputs": [
        {
          "output_type": "execute_result",
          "data": {
            "text/plain": [
              "{0.0: 'CERO', 1.0: 'URBANO', 2.0: 'RURAL'}"
            ]
          },
          "metadata": {},
          "execution_count": 57
        }
      ]
    },
    {
      "cell_type": "markdown",
      "source": [
        "We see that this dataset came without notes, but does have more descriptive \n",
        "labels for both the column names and descriptions for each code. By providing\n",
        "the column name `URBRUR` in brackets, we're specifying we want only the codes\n",
        "for that specific column."
      ],
      "metadata": {
        "id": "F_0buPFdUPnn"
      }
    },
    {
      "cell_type": "markdown",
      "source": [
        "## Label column values\n",
        "We'll want to replace the values in each column with the human-readable\n",
        "labels as provided in the `variable_value_to_labels` dictionary. Luckily,\n",
        "`pyreadstat` provides a built-in method to make this easy for us.\n",
        "\n"
      ],
      "metadata": {
        "id": "g2XB3jNkYVoe"
      }
    },
    {
      "cell_type": "code",
      "source": [
        "viviendas_df = pyreadstat.set_value_labels(viviendas_df, viviendas_meta)\n",
        "viviendas_df.head()"
      ],
      "metadata": {
        "colab": {
          "base_uri": "https://localhost:8080/",
          "height": 206
        },
        "id": "xVHufXXhYNYH",
        "outputId": "65ea01cc-f347-4e7b-aa1e-45311b23c8aa"
      },
      "execution_count": null,
      "outputs": [
        {
          "output_type": "execute_result",
          "data": {
            "text/plain": [
              "  DEPARTAMENTO     MUNICIPIO  URBRUR  NUMVIV  AREA          V01       V02  \\\n",
              "0    Guatemala     Guatemala  URBANO     1.0   1.0  Casa Formal  Ladrillo   \n",
              "1    Guatemala  San Raymundo   RURAL     2.0   1.0  Casa Formal  Ladrillo   \n",
              "2    Guatemala     Fraijanes  URBANO     3.0   1.0  Casa Formal     Block   \n",
              "3    Guatemala     Guatemala  URBANO     4.0   1.0  Casa Formal     Block   \n",
              "4    Guatemala     Guatemala  URBANO     5.0   1.0  Casa Formal     Block   \n",
              "\n",
              "        V03  V04  V05 IH01 IH02 IH03  \n",
              "0  Concreto  5.0  NaN  NaN  NaN  NaN  \n",
              "1  Concreto  5.0  NaN  NaN  NaN  NaN  \n",
              "2  Concreto  5.0  NaN  NaN  NaN  NaN  \n",
              "3  Concreto  5.0  NaN  NaN  NaN  NaN  \n",
              "4  Concreto  5.0  NaN  NaN  NaN  NaN  "
            ],
            "text/html": [
              "\n",
              "  <div id=\"df-dd33fd03-c022-4b9e-9b9a-f0c570e99f86\">\n",
              "    <div class=\"colab-df-container\">\n",
              "      <div>\n",
              "<style scoped>\n",
              "    .dataframe tbody tr th:only-of-type {\n",
              "        vertical-align: middle;\n",
              "    }\n",
              "\n",
              "    .dataframe tbody tr th {\n",
              "        vertical-align: top;\n",
              "    }\n",
              "\n",
              "    .dataframe thead th {\n",
              "        text-align: right;\n",
              "    }\n",
              "</style>\n",
              "<table border=\"1\" class=\"dataframe\">\n",
              "  <thead>\n",
              "    <tr style=\"text-align: right;\">\n",
              "      <th></th>\n",
              "      <th>DEPARTAMENTO</th>\n",
              "      <th>MUNICIPIO</th>\n",
              "      <th>URBRUR</th>\n",
              "      <th>NUMVIV</th>\n",
              "      <th>AREA</th>\n",
              "      <th>V01</th>\n",
              "      <th>V02</th>\n",
              "      <th>V03</th>\n",
              "      <th>V04</th>\n",
              "      <th>V05</th>\n",
              "      <th>IH01</th>\n",
              "      <th>IH02</th>\n",
              "      <th>IH03</th>\n",
              "    </tr>\n",
              "  </thead>\n",
              "  <tbody>\n",
              "    <tr>\n",
              "      <th>0</th>\n",
              "      <td>Guatemala</td>\n",
              "      <td>Guatemala</td>\n",
              "      <td>URBANO</td>\n",
              "      <td>1.0</td>\n",
              "      <td>1.0</td>\n",
              "      <td>Casa Formal</td>\n",
              "      <td>Ladrillo</td>\n",
              "      <td>Concreto</td>\n",
              "      <td>5.0</td>\n",
              "      <td>NaN</td>\n",
              "      <td>NaN</td>\n",
              "      <td>NaN</td>\n",
              "      <td>NaN</td>\n",
              "    </tr>\n",
              "    <tr>\n",
              "      <th>1</th>\n",
              "      <td>Guatemala</td>\n",
              "      <td>San Raymundo</td>\n",
              "      <td>RURAL</td>\n",
              "      <td>2.0</td>\n",
              "      <td>1.0</td>\n",
              "      <td>Casa Formal</td>\n",
              "      <td>Ladrillo</td>\n",
              "      <td>Concreto</td>\n",
              "      <td>5.0</td>\n",
              "      <td>NaN</td>\n",
              "      <td>NaN</td>\n",
              "      <td>NaN</td>\n",
              "      <td>NaN</td>\n",
              "    </tr>\n",
              "    <tr>\n",
              "      <th>2</th>\n",
              "      <td>Guatemala</td>\n",
              "      <td>Fraijanes</td>\n",
              "      <td>URBANO</td>\n",
              "      <td>3.0</td>\n",
              "      <td>1.0</td>\n",
              "      <td>Casa Formal</td>\n",
              "      <td>Block</td>\n",
              "      <td>Concreto</td>\n",
              "      <td>5.0</td>\n",
              "      <td>NaN</td>\n",
              "      <td>NaN</td>\n",
              "      <td>NaN</td>\n",
              "      <td>NaN</td>\n",
              "    </tr>\n",
              "    <tr>\n",
              "      <th>3</th>\n",
              "      <td>Guatemala</td>\n",
              "      <td>Guatemala</td>\n",
              "      <td>URBANO</td>\n",
              "      <td>4.0</td>\n",
              "      <td>1.0</td>\n",
              "      <td>Casa Formal</td>\n",
              "      <td>Block</td>\n",
              "      <td>Concreto</td>\n",
              "      <td>5.0</td>\n",
              "      <td>NaN</td>\n",
              "      <td>NaN</td>\n",
              "      <td>NaN</td>\n",
              "      <td>NaN</td>\n",
              "    </tr>\n",
              "    <tr>\n",
              "      <th>4</th>\n",
              "      <td>Guatemala</td>\n",
              "      <td>Guatemala</td>\n",
              "      <td>URBANO</td>\n",
              "      <td>5.0</td>\n",
              "      <td>1.0</td>\n",
              "      <td>Casa Formal</td>\n",
              "      <td>Block</td>\n",
              "      <td>Concreto</td>\n",
              "      <td>5.0</td>\n",
              "      <td>NaN</td>\n",
              "      <td>NaN</td>\n",
              "      <td>NaN</td>\n",
              "      <td>NaN</td>\n",
              "    </tr>\n",
              "  </tbody>\n",
              "</table>\n",
              "</div>\n",
              "      <button class=\"colab-df-convert\" onclick=\"convertToInteractive('df-dd33fd03-c022-4b9e-9b9a-f0c570e99f86')\"\n",
              "              title=\"Convert this dataframe to an interactive table.\"\n",
              "              style=\"display:none;\">\n",
              "        \n",
              "  <svg xmlns=\"http://www.w3.org/2000/svg\" height=\"24px\"viewBox=\"0 0 24 24\"\n",
              "       width=\"24px\">\n",
              "    <path d=\"M0 0h24v24H0V0z\" fill=\"none\"/>\n",
              "    <path d=\"M18.56 5.44l.94 2.06.94-2.06 2.06-.94-2.06-.94-.94-2.06-.94 2.06-2.06.94zm-11 1L8.5 8.5l.94-2.06 2.06-.94-2.06-.94L8.5 2.5l-.94 2.06-2.06.94zm10 10l.94 2.06.94-2.06 2.06-.94-2.06-.94-.94-2.06-.94 2.06-2.06.94z\"/><path d=\"M17.41 7.96l-1.37-1.37c-.4-.4-.92-.59-1.43-.59-.52 0-1.04.2-1.43.59L10.3 9.45l-7.72 7.72c-.78.78-.78 2.05 0 2.83L4 21.41c.39.39.9.59 1.41.59.51 0 1.02-.2 1.41-.59l7.78-7.78 2.81-2.81c.8-.78.8-2.07 0-2.86zM5.41 20L4 18.59l7.72-7.72 1.47 1.35L5.41 20z\"/>\n",
              "  </svg>\n",
              "      </button>\n",
              "      \n",
              "  <style>\n",
              "    .colab-df-container {\n",
              "      display:flex;\n",
              "      flex-wrap:wrap;\n",
              "      gap: 12px;\n",
              "    }\n",
              "\n",
              "    .colab-df-convert {\n",
              "      background-color: #E8F0FE;\n",
              "      border: none;\n",
              "      border-radius: 50%;\n",
              "      cursor: pointer;\n",
              "      display: none;\n",
              "      fill: #1967D2;\n",
              "      height: 32px;\n",
              "      padding: 0 0 0 0;\n",
              "      width: 32px;\n",
              "    }\n",
              "\n",
              "    .colab-df-convert:hover {\n",
              "      background-color: #E2EBFA;\n",
              "      box-shadow: 0px 1px 2px rgba(60, 64, 67, 0.3), 0px 1px 3px 1px rgba(60, 64, 67, 0.15);\n",
              "      fill: #174EA6;\n",
              "    }\n",
              "\n",
              "    [theme=dark] .colab-df-convert {\n",
              "      background-color: #3B4455;\n",
              "      fill: #D2E3FC;\n",
              "    }\n",
              "\n",
              "    [theme=dark] .colab-df-convert:hover {\n",
              "      background-color: #434B5C;\n",
              "      box-shadow: 0px 1px 3px 1px rgba(0, 0, 0, 0.15);\n",
              "      filter: drop-shadow(0px 1px 2px rgba(0, 0, 0, 0.3));\n",
              "      fill: #FFFFFF;\n",
              "    }\n",
              "  </style>\n",
              "\n",
              "      <script>\n",
              "        const buttonEl =\n",
              "          document.querySelector('#df-dd33fd03-c022-4b9e-9b9a-f0c570e99f86 button.colab-df-convert');\n",
              "        buttonEl.style.display =\n",
              "          google.colab.kernel.accessAllowed ? 'block' : 'none';\n",
              "\n",
              "        async function convertToInteractive(key) {\n",
              "          const element = document.querySelector('#df-dd33fd03-c022-4b9e-9b9a-f0c570e99f86');\n",
              "          const dataTable =\n",
              "            await google.colab.kernel.invokeFunction('convertToInteractive',\n",
              "                                                     [key], {});\n",
              "          if (!dataTable) return;\n",
              "\n",
              "          const docLinkHtml = 'Like what you see? Visit the ' +\n",
              "            '<a target=\"_blank\" href=https://colab.research.google.com/notebooks/data_table.ipynb>data table notebook</a>'\n",
              "            + ' to learn more about interactive tables.';\n",
              "          element.innerHTML = '';\n",
              "          dataTable['output_type'] = 'display_data';\n",
              "          await google.colab.output.renderOutput(dataTable, element);\n",
              "          const docLink = document.createElement('div');\n",
              "          docLink.innerHTML = docLinkHtml;\n",
              "          element.appendChild(docLink);\n",
              "        }\n",
              "      </script>\n",
              "    </div>\n",
              "  </div>\n",
              "  "
            ]
          },
          "metadata": {},
          "execution_count": 58
        }
      ]
    },
    {
      "cell_type": "markdown",
      "source": [
        "### Add back columns for Department and Municipality codes\n",
        "The first thing of note is that the 'Departmento' and 'Muncipio' columns were\n",
        "replaced with the names of the departments and municipalities, respectively.\n",
        "However we use these codes to join tabular data like this to spatial layers.\n",
        "\n",
        "Let's add back the columns for department and municipality codes as 'Codigo'\n",
        "and 'Codigo1', respectively."
      ],
      "metadata": {
        "id": "DieDYhUnxHGS"
      }
    },
    {
      "cell_type": "code",
      "source": [
        "inv_dict_dept = {v: k for k, v in viviendas_meta.variable_value_labels['DEPARTAMENTO'].items()}\n",
        "viviendas_df['Codigo'] = viviendas_df['DEPARTAMENTO'].map(inv_dict_dept)\n",
        "viviendas_df.head()"
      ],
      "metadata": {
        "colab": {
          "base_uri": "https://localhost:8080/",
          "height": 206
        },
        "id": "FerFVgQRxhcD",
        "outputId": "ae449a0e-ef4d-4307-f700-58692db4e0ad"
      },
      "execution_count": null,
      "outputs": [
        {
          "output_type": "execute_result",
          "data": {
            "text/plain": [
              "  DEPARTAMENTO     MUNICIPIO  URBRUR  NUMVIV  AREA          V01       V02  \\\n",
              "0    Guatemala     Guatemala  URBANO     1.0   1.0  Casa Formal  Ladrillo   \n",
              "1    Guatemala  San Raymundo   RURAL     2.0   1.0  Casa Formal  Ladrillo   \n",
              "2    Guatemala     Fraijanes  URBANO     3.0   1.0  Casa Formal     Block   \n",
              "3    Guatemala     Guatemala  URBANO     4.0   1.0  Casa Formal     Block   \n",
              "4    Guatemala     Guatemala  URBANO     5.0   1.0  Casa Formal     Block   \n",
              "\n",
              "        V03  V04  V05 IH01 IH02 IH03 Codigo  \n",
              "0  Concreto  5.0  NaN  NaN  NaN  NaN    1.0  \n",
              "1  Concreto  5.0  NaN  NaN  NaN  NaN    1.0  \n",
              "2  Concreto  5.0  NaN  NaN  NaN  NaN    1.0  \n",
              "3  Concreto  5.0  NaN  NaN  NaN  NaN    1.0  \n",
              "4  Concreto  5.0  NaN  NaN  NaN  NaN    1.0  "
            ],
            "text/html": [
              "\n",
              "  <div id=\"df-108a67ef-bb82-420a-9df7-172a82ebca0f\">\n",
              "    <div class=\"colab-df-container\">\n",
              "      <div>\n",
              "<style scoped>\n",
              "    .dataframe tbody tr th:only-of-type {\n",
              "        vertical-align: middle;\n",
              "    }\n",
              "\n",
              "    .dataframe tbody tr th {\n",
              "        vertical-align: top;\n",
              "    }\n",
              "\n",
              "    .dataframe thead th {\n",
              "        text-align: right;\n",
              "    }\n",
              "</style>\n",
              "<table border=\"1\" class=\"dataframe\">\n",
              "  <thead>\n",
              "    <tr style=\"text-align: right;\">\n",
              "      <th></th>\n",
              "      <th>DEPARTAMENTO</th>\n",
              "      <th>MUNICIPIO</th>\n",
              "      <th>URBRUR</th>\n",
              "      <th>NUMVIV</th>\n",
              "      <th>AREA</th>\n",
              "      <th>V01</th>\n",
              "      <th>V02</th>\n",
              "      <th>V03</th>\n",
              "      <th>V04</th>\n",
              "      <th>V05</th>\n",
              "      <th>IH01</th>\n",
              "      <th>IH02</th>\n",
              "      <th>IH03</th>\n",
              "      <th>Codigo</th>\n",
              "    </tr>\n",
              "  </thead>\n",
              "  <tbody>\n",
              "    <tr>\n",
              "      <th>0</th>\n",
              "      <td>Guatemala</td>\n",
              "      <td>Guatemala</td>\n",
              "      <td>URBANO</td>\n",
              "      <td>1.0</td>\n",
              "      <td>1.0</td>\n",
              "      <td>Casa Formal</td>\n",
              "      <td>Ladrillo</td>\n",
              "      <td>Concreto</td>\n",
              "      <td>5.0</td>\n",
              "      <td>NaN</td>\n",
              "      <td>NaN</td>\n",
              "      <td>NaN</td>\n",
              "      <td>NaN</td>\n",
              "      <td>1.0</td>\n",
              "    </tr>\n",
              "    <tr>\n",
              "      <th>1</th>\n",
              "      <td>Guatemala</td>\n",
              "      <td>San Raymundo</td>\n",
              "      <td>RURAL</td>\n",
              "      <td>2.0</td>\n",
              "      <td>1.0</td>\n",
              "      <td>Casa Formal</td>\n",
              "      <td>Ladrillo</td>\n",
              "      <td>Concreto</td>\n",
              "      <td>5.0</td>\n",
              "      <td>NaN</td>\n",
              "      <td>NaN</td>\n",
              "      <td>NaN</td>\n",
              "      <td>NaN</td>\n",
              "      <td>1.0</td>\n",
              "    </tr>\n",
              "    <tr>\n",
              "      <th>2</th>\n",
              "      <td>Guatemala</td>\n",
              "      <td>Fraijanes</td>\n",
              "      <td>URBANO</td>\n",
              "      <td>3.0</td>\n",
              "      <td>1.0</td>\n",
              "      <td>Casa Formal</td>\n",
              "      <td>Block</td>\n",
              "      <td>Concreto</td>\n",
              "      <td>5.0</td>\n",
              "      <td>NaN</td>\n",
              "      <td>NaN</td>\n",
              "      <td>NaN</td>\n",
              "      <td>NaN</td>\n",
              "      <td>1.0</td>\n",
              "    </tr>\n",
              "    <tr>\n",
              "      <th>3</th>\n",
              "      <td>Guatemala</td>\n",
              "      <td>Guatemala</td>\n",
              "      <td>URBANO</td>\n",
              "      <td>4.0</td>\n",
              "      <td>1.0</td>\n",
              "      <td>Casa Formal</td>\n",
              "      <td>Block</td>\n",
              "      <td>Concreto</td>\n",
              "      <td>5.0</td>\n",
              "      <td>NaN</td>\n",
              "      <td>NaN</td>\n",
              "      <td>NaN</td>\n",
              "      <td>NaN</td>\n",
              "      <td>1.0</td>\n",
              "    </tr>\n",
              "    <tr>\n",
              "      <th>4</th>\n",
              "      <td>Guatemala</td>\n",
              "      <td>Guatemala</td>\n",
              "      <td>URBANO</td>\n",
              "      <td>5.0</td>\n",
              "      <td>1.0</td>\n",
              "      <td>Casa Formal</td>\n",
              "      <td>Block</td>\n",
              "      <td>Concreto</td>\n",
              "      <td>5.0</td>\n",
              "      <td>NaN</td>\n",
              "      <td>NaN</td>\n",
              "      <td>NaN</td>\n",
              "      <td>NaN</td>\n",
              "      <td>1.0</td>\n",
              "    </tr>\n",
              "  </tbody>\n",
              "</table>\n",
              "</div>\n",
              "      <button class=\"colab-df-convert\" onclick=\"convertToInteractive('df-108a67ef-bb82-420a-9df7-172a82ebca0f')\"\n",
              "              title=\"Convert this dataframe to an interactive table.\"\n",
              "              style=\"display:none;\">\n",
              "        \n",
              "  <svg xmlns=\"http://www.w3.org/2000/svg\" height=\"24px\"viewBox=\"0 0 24 24\"\n",
              "       width=\"24px\">\n",
              "    <path d=\"M0 0h24v24H0V0z\" fill=\"none\"/>\n",
              "    <path d=\"M18.56 5.44l.94 2.06.94-2.06 2.06-.94-2.06-.94-.94-2.06-.94 2.06-2.06.94zm-11 1L8.5 8.5l.94-2.06 2.06-.94-2.06-.94L8.5 2.5l-.94 2.06-2.06.94zm10 10l.94 2.06.94-2.06 2.06-.94-2.06-.94-.94-2.06-.94 2.06-2.06.94z\"/><path d=\"M17.41 7.96l-1.37-1.37c-.4-.4-.92-.59-1.43-.59-.52 0-1.04.2-1.43.59L10.3 9.45l-7.72 7.72c-.78.78-.78 2.05 0 2.83L4 21.41c.39.39.9.59 1.41.59.51 0 1.02-.2 1.41-.59l7.78-7.78 2.81-2.81c.8-.78.8-2.07 0-2.86zM5.41 20L4 18.59l7.72-7.72 1.47 1.35L5.41 20z\"/>\n",
              "  </svg>\n",
              "      </button>\n",
              "      \n",
              "  <style>\n",
              "    .colab-df-container {\n",
              "      display:flex;\n",
              "      flex-wrap:wrap;\n",
              "      gap: 12px;\n",
              "    }\n",
              "\n",
              "    .colab-df-convert {\n",
              "      background-color: #E8F0FE;\n",
              "      border: none;\n",
              "      border-radius: 50%;\n",
              "      cursor: pointer;\n",
              "      display: none;\n",
              "      fill: #1967D2;\n",
              "      height: 32px;\n",
              "      padding: 0 0 0 0;\n",
              "      width: 32px;\n",
              "    }\n",
              "\n",
              "    .colab-df-convert:hover {\n",
              "      background-color: #E2EBFA;\n",
              "      box-shadow: 0px 1px 2px rgba(60, 64, 67, 0.3), 0px 1px 3px 1px rgba(60, 64, 67, 0.15);\n",
              "      fill: #174EA6;\n",
              "    }\n",
              "\n",
              "    [theme=dark] .colab-df-convert {\n",
              "      background-color: #3B4455;\n",
              "      fill: #D2E3FC;\n",
              "    }\n",
              "\n",
              "    [theme=dark] .colab-df-convert:hover {\n",
              "      background-color: #434B5C;\n",
              "      box-shadow: 0px 1px 3px 1px rgba(0, 0, 0, 0.15);\n",
              "      filter: drop-shadow(0px 1px 2px rgba(0, 0, 0, 0.3));\n",
              "      fill: #FFFFFF;\n",
              "    }\n",
              "  </style>\n",
              "\n",
              "      <script>\n",
              "        const buttonEl =\n",
              "          document.querySelector('#df-108a67ef-bb82-420a-9df7-172a82ebca0f button.colab-df-convert');\n",
              "        buttonEl.style.display =\n",
              "          google.colab.kernel.accessAllowed ? 'block' : 'none';\n",
              "\n",
              "        async function convertToInteractive(key) {\n",
              "          const element = document.querySelector('#df-108a67ef-bb82-420a-9df7-172a82ebca0f');\n",
              "          const dataTable =\n",
              "            await google.colab.kernel.invokeFunction('convertToInteractive',\n",
              "                                                     [key], {});\n",
              "          if (!dataTable) return;\n",
              "\n",
              "          const docLinkHtml = 'Like what you see? Visit the ' +\n",
              "            '<a target=\"_blank\" href=https://colab.research.google.com/notebooks/data_table.ipynb>data table notebook</a>'\n",
              "            + ' to learn more about interactive tables.';\n",
              "          element.innerHTML = '';\n",
              "          dataTable['output_type'] = 'display_data';\n",
              "          await google.colab.output.renderOutput(dataTable, element);\n",
              "          const docLink = document.createElement('div');\n",
              "          docLink.innerHTML = docLinkHtml;\n",
              "          element.appendChild(docLink);\n",
              "        }\n",
              "      </script>\n",
              "    </div>\n",
              "  </div>\n",
              "  "
            ]
          },
          "metadata": {},
          "execution_count": 61
        }
      ]
    },
    {
      "cell_type": "code",
      "source": [
        "inv_dict_dept = {v: k for k, v in viviendas_meta.variable_value_labels['MUNICIPIO'].items()}\n",
        "viviendas_df['Codigo1'] = viviendas_df['MUNICIPIO'].map(inv_dict_dept)\n",
        "viviendas_df.head()"
      ],
      "metadata": {
        "colab": {
          "base_uri": "https://localhost:8080/",
          "height": 206
        },
        "id": "XrVPLgIoyE6E",
        "outputId": "f2c8e182-b60b-4b7f-f5a5-8bbdbbb5eaa0"
      },
      "execution_count": null,
      "outputs": [
        {
          "output_type": "execute_result",
          "data": {
            "text/plain": [
              "  DEPARTAMENTO     MUNICIPIO  URBRUR  NUMVIV  AREA          V01       V02  \\\n",
              "0    Guatemala     Guatemala  URBANO     1.0   1.0  Casa Formal  Ladrillo   \n",
              "1    Guatemala  San Raymundo   RURAL     2.0   1.0  Casa Formal  Ladrillo   \n",
              "2    Guatemala     Fraijanes  URBANO     3.0   1.0  Casa Formal     Block   \n",
              "3    Guatemala     Guatemala  URBANO     4.0   1.0  Casa Formal     Block   \n",
              "4    Guatemala     Guatemala  URBANO     5.0   1.0  Casa Formal     Block   \n",
              "\n",
              "        V03  V04  V05 IH01 IH02 IH03 Codigo Codigo1  \n",
              "0  Concreto  5.0  NaN  NaN  NaN  NaN    1.0   101.0  \n",
              "1  Concreto  5.0  NaN  NaN  NaN  NaN    1.0   111.0  \n",
              "2  Concreto  5.0  NaN  NaN  NaN  NaN    1.0   113.0  \n",
              "3  Concreto  5.0  NaN  NaN  NaN  NaN    1.0   101.0  \n",
              "4  Concreto  5.0  NaN  NaN  NaN  NaN    1.0   101.0  "
            ],
            "text/html": [
              "\n",
              "  <div id=\"df-d6acfdc1-15d4-4b8b-993e-553dc68bec7d\">\n",
              "    <div class=\"colab-df-container\">\n",
              "      <div>\n",
              "<style scoped>\n",
              "    .dataframe tbody tr th:only-of-type {\n",
              "        vertical-align: middle;\n",
              "    }\n",
              "\n",
              "    .dataframe tbody tr th {\n",
              "        vertical-align: top;\n",
              "    }\n",
              "\n",
              "    .dataframe thead th {\n",
              "        text-align: right;\n",
              "    }\n",
              "</style>\n",
              "<table border=\"1\" class=\"dataframe\">\n",
              "  <thead>\n",
              "    <tr style=\"text-align: right;\">\n",
              "      <th></th>\n",
              "      <th>DEPARTAMENTO</th>\n",
              "      <th>MUNICIPIO</th>\n",
              "      <th>URBRUR</th>\n",
              "      <th>NUMVIV</th>\n",
              "      <th>AREA</th>\n",
              "      <th>V01</th>\n",
              "      <th>V02</th>\n",
              "      <th>V03</th>\n",
              "      <th>V04</th>\n",
              "      <th>V05</th>\n",
              "      <th>IH01</th>\n",
              "      <th>IH02</th>\n",
              "      <th>IH03</th>\n",
              "      <th>Codigo</th>\n",
              "      <th>Codigo1</th>\n",
              "    </tr>\n",
              "  </thead>\n",
              "  <tbody>\n",
              "    <tr>\n",
              "      <th>0</th>\n",
              "      <td>Guatemala</td>\n",
              "      <td>Guatemala</td>\n",
              "      <td>URBANO</td>\n",
              "      <td>1.0</td>\n",
              "      <td>1.0</td>\n",
              "      <td>Casa Formal</td>\n",
              "      <td>Ladrillo</td>\n",
              "      <td>Concreto</td>\n",
              "      <td>5.0</td>\n",
              "      <td>NaN</td>\n",
              "      <td>NaN</td>\n",
              "      <td>NaN</td>\n",
              "      <td>NaN</td>\n",
              "      <td>1.0</td>\n",
              "      <td>101.0</td>\n",
              "    </tr>\n",
              "    <tr>\n",
              "      <th>1</th>\n",
              "      <td>Guatemala</td>\n",
              "      <td>San Raymundo</td>\n",
              "      <td>RURAL</td>\n",
              "      <td>2.0</td>\n",
              "      <td>1.0</td>\n",
              "      <td>Casa Formal</td>\n",
              "      <td>Ladrillo</td>\n",
              "      <td>Concreto</td>\n",
              "      <td>5.0</td>\n",
              "      <td>NaN</td>\n",
              "      <td>NaN</td>\n",
              "      <td>NaN</td>\n",
              "      <td>NaN</td>\n",
              "      <td>1.0</td>\n",
              "      <td>111.0</td>\n",
              "    </tr>\n",
              "    <tr>\n",
              "      <th>2</th>\n",
              "      <td>Guatemala</td>\n",
              "      <td>Fraijanes</td>\n",
              "      <td>URBANO</td>\n",
              "      <td>3.0</td>\n",
              "      <td>1.0</td>\n",
              "      <td>Casa Formal</td>\n",
              "      <td>Block</td>\n",
              "      <td>Concreto</td>\n",
              "      <td>5.0</td>\n",
              "      <td>NaN</td>\n",
              "      <td>NaN</td>\n",
              "      <td>NaN</td>\n",
              "      <td>NaN</td>\n",
              "      <td>1.0</td>\n",
              "      <td>113.0</td>\n",
              "    </tr>\n",
              "    <tr>\n",
              "      <th>3</th>\n",
              "      <td>Guatemala</td>\n",
              "      <td>Guatemala</td>\n",
              "      <td>URBANO</td>\n",
              "      <td>4.0</td>\n",
              "      <td>1.0</td>\n",
              "      <td>Casa Formal</td>\n",
              "      <td>Block</td>\n",
              "      <td>Concreto</td>\n",
              "      <td>5.0</td>\n",
              "      <td>NaN</td>\n",
              "      <td>NaN</td>\n",
              "      <td>NaN</td>\n",
              "      <td>NaN</td>\n",
              "      <td>1.0</td>\n",
              "      <td>101.0</td>\n",
              "    </tr>\n",
              "    <tr>\n",
              "      <th>4</th>\n",
              "      <td>Guatemala</td>\n",
              "      <td>Guatemala</td>\n",
              "      <td>URBANO</td>\n",
              "      <td>5.0</td>\n",
              "      <td>1.0</td>\n",
              "      <td>Casa Formal</td>\n",
              "      <td>Block</td>\n",
              "      <td>Concreto</td>\n",
              "      <td>5.0</td>\n",
              "      <td>NaN</td>\n",
              "      <td>NaN</td>\n",
              "      <td>NaN</td>\n",
              "      <td>NaN</td>\n",
              "      <td>1.0</td>\n",
              "      <td>101.0</td>\n",
              "    </tr>\n",
              "  </tbody>\n",
              "</table>\n",
              "</div>\n",
              "      <button class=\"colab-df-convert\" onclick=\"convertToInteractive('df-d6acfdc1-15d4-4b8b-993e-553dc68bec7d')\"\n",
              "              title=\"Convert this dataframe to an interactive table.\"\n",
              "              style=\"display:none;\">\n",
              "        \n",
              "  <svg xmlns=\"http://www.w3.org/2000/svg\" height=\"24px\"viewBox=\"0 0 24 24\"\n",
              "       width=\"24px\">\n",
              "    <path d=\"M0 0h24v24H0V0z\" fill=\"none\"/>\n",
              "    <path d=\"M18.56 5.44l.94 2.06.94-2.06 2.06-.94-2.06-.94-.94-2.06-.94 2.06-2.06.94zm-11 1L8.5 8.5l.94-2.06 2.06-.94-2.06-.94L8.5 2.5l-.94 2.06-2.06.94zm10 10l.94 2.06.94-2.06 2.06-.94-2.06-.94-.94-2.06-.94 2.06-2.06.94z\"/><path d=\"M17.41 7.96l-1.37-1.37c-.4-.4-.92-.59-1.43-.59-.52 0-1.04.2-1.43.59L10.3 9.45l-7.72 7.72c-.78.78-.78 2.05 0 2.83L4 21.41c.39.39.9.59 1.41.59.51 0 1.02-.2 1.41-.59l7.78-7.78 2.81-2.81c.8-.78.8-2.07 0-2.86zM5.41 20L4 18.59l7.72-7.72 1.47 1.35L5.41 20z\"/>\n",
              "  </svg>\n",
              "      </button>\n",
              "      \n",
              "  <style>\n",
              "    .colab-df-container {\n",
              "      display:flex;\n",
              "      flex-wrap:wrap;\n",
              "      gap: 12px;\n",
              "    }\n",
              "\n",
              "    .colab-df-convert {\n",
              "      background-color: #E8F0FE;\n",
              "      border: none;\n",
              "      border-radius: 50%;\n",
              "      cursor: pointer;\n",
              "      display: none;\n",
              "      fill: #1967D2;\n",
              "      height: 32px;\n",
              "      padding: 0 0 0 0;\n",
              "      width: 32px;\n",
              "    }\n",
              "\n",
              "    .colab-df-convert:hover {\n",
              "      background-color: #E2EBFA;\n",
              "      box-shadow: 0px 1px 2px rgba(60, 64, 67, 0.3), 0px 1px 3px 1px rgba(60, 64, 67, 0.15);\n",
              "      fill: #174EA6;\n",
              "    }\n",
              "\n",
              "    [theme=dark] .colab-df-convert {\n",
              "      background-color: #3B4455;\n",
              "      fill: #D2E3FC;\n",
              "    }\n",
              "\n",
              "    [theme=dark] .colab-df-convert:hover {\n",
              "      background-color: #434B5C;\n",
              "      box-shadow: 0px 1px 3px 1px rgba(0, 0, 0, 0.15);\n",
              "      filter: drop-shadow(0px 1px 2px rgba(0, 0, 0, 0.3));\n",
              "      fill: #FFFFFF;\n",
              "    }\n",
              "  </style>\n",
              "\n",
              "      <script>\n",
              "        const buttonEl =\n",
              "          document.querySelector('#df-d6acfdc1-15d4-4b8b-993e-553dc68bec7d button.colab-df-convert');\n",
              "        buttonEl.style.display =\n",
              "          google.colab.kernel.accessAllowed ? 'block' : 'none';\n",
              "\n",
              "        async function convertToInteractive(key) {\n",
              "          const element = document.querySelector('#df-d6acfdc1-15d4-4b8b-993e-553dc68bec7d');\n",
              "          const dataTable =\n",
              "            await google.colab.kernel.invokeFunction('convertToInteractive',\n",
              "                                                     [key], {});\n",
              "          if (!dataTable) return;\n",
              "\n",
              "          const docLinkHtml = 'Like what you see? Visit the ' +\n",
              "            '<a target=\"_blank\" href=https://colab.research.google.com/notebooks/data_table.ipynb>data table notebook</a>'\n",
              "            + ' to learn more about interactive tables.';\n",
              "          element.innerHTML = '';\n",
              "          dataTable['output_type'] = 'display_data';\n",
              "          await google.colab.output.renderOutput(dataTable, element);\n",
              "          const docLink = document.createElement('div');\n",
              "          docLink.innerHTML = docLinkHtml;\n",
              "          element.appendChild(docLink);\n",
              "        }\n",
              "      </script>\n",
              "    </div>\n",
              "  </div>\n",
              "  "
            ]
          },
          "metadata": {},
          "execution_count": 62
        }
      ]
    },
    {
      "cell_type": "markdown",
      "source": [
        "### Check remaining columns\n",
        "We can see that some values were replaced with labels, but some where not. We \n",
        "got lucky to catch that in the top 5 rows. When working with data you always\n",
        "need to be very thorough when doing this type of data cleaning.\n",
        "\n",
        "First, let's see which columns should have been changed from numeric values\n",
        "to human-readable data. We can check the `variable_value_labels` dictionary\n",
        "to see which `keys` are present."
      ],
      "metadata": {
        "id": "X-rDS88DbKuN"
      }
    },
    {
      "cell_type": "code",
      "source": [
        "viviendas_meta.variable_value_labels.keys()"
      ],
      "metadata": {
        "colab": {
          "base_uri": "https://localhost:8080/"
        },
        "id": "vmj5vu5CbMnT",
        "outputId": "5e8ca68d-98f9-4497-dde3-d00f3fb9cd14"
      },
      "execution_count": null,
      "outputs": [
        {
          "output_type": "execute_result",
          "data": {
            "text/plain": [
              "dict_keys(['DEPARTAMENTO', 'MUNICIPIO', 'URBRUR', 'V01', 'V02', 'V03', 'V04', 'V05', 'IH01', 'IH02', 'IH03'])"
            ]
          },
          "metadata": {},
          "execution_count": 24
        }
      ]
    },
    {
      "cell_type": "markdown",
      "source": [
        "Note that 'NUMVIV' and 'AREA' do not have a dictionary for replacing values.\n",
        "Thus, it's not unusual that those remain numeric data. However, 'VO4' does\n",
        "and so it shouldn't still be numeric. Let's check it out."
      ],
      "metadata": {
        "id": "cSQZcjOqcRfi"
      }
    },
    {
      "cell_type": "code",
      "source": [
        "viviendas_meta.variable_value_labels['V04']"
      ],
      "metadata": {
        "colab": {
          "base_uri": "https://localhost:8080/"
        },
        "id": "o47Dl2bsbVbq",
        "outputId": "76b0cc6f-3497-425e-d7ee-ae3dae339c61"
      },
      "execution_count": null,
      "outputs": [
        {
          "output_type": "execute_result",
          "data": {
            "text/plain": [
              "{1.0: 'Con personas presentes',\n",
              " 2.0: 'Con personas ausentes',\n",
              " 3.0: 'De uso temporal'}"
            ]
          },
          "metadata": {},
          "execution_count": 25
        }
      ]
    },
    {
      "cell_type": "markdown",
      "source": [
        "We can see that there are options for values 1, 2, and 3. However we can clearly\n",
        "see 5.0 is also a value in this column.\n",
        "\n",
        "What other values are present in this column?"
      ],
      "metadata": {
        "id": "A4jILDPsbnyR"
      }
    },
    {
      "cell_type": "code",
      "source": [
        "viviendas_df['V04'].unique()"
      ],
      "metadata": {
        "colab": {
          "base_uri": "https://localhost:8080/"
        },
        "id": "aE-qY6sebbw7",
        "outputId": "7f636c1b-9115-4462-b497-351a8bd8e19b"
      },
      "execution_count": null,
      "outputs": [
        {
          "output_type": "execute_result",
          "data": {
            "text/plain": [
              "[5.0, 'Con personas presentes', 6.0, 4.0, 'Con personas ausentes', 'De uso temporal', NaN]\n",
              "Categories (6, object): [4.0, 5.0, 6.0, 'Con personas ausentes', 'Con personas presentes',\n",
              "                         'De uso temporal']"
            ]
          },
          "metadata": {},
          "execution_count": 26
        }
      ]
    },
    {
      "cell_type": "markdown",
      "source": [
        "Interesting, we seem to be missing data for the values 4, 5, and 6. However\n",
        "the values of 1, 2, and 3 appear to be replaced as expected.\n",
        "\n",
        "We can check the remaining columns with a for loop and an if statement. For\n",
        "each column in the DataFrame, if the column is also a key in the \n",
        "`variable_value_labels` dictionary, print the unique values in the column. \n",
        "Let's skip the first 2 columns since those are quite long."
      ],
      "metadata": {
        "id": "3Mhes4jgbliu"
      }
    },
    {
      "cell_type": "code",
      "source": [
        "for column in viviendas_df.columns[2:]:\n",
        "  if column in viviendas_meta.variable_value_labels.keys():\n",
        "    print(viviendas_df[column].unique())"
      ],
      "metadata": {
        "colab": {
          "base_uri": "https://localhost:8080/"
        },
        "id": "3T9j5aoqdLRa",
        "outputId": "2973e901-af82-420c-e2a1-eb317633ff8f"
      },
      "execution_count": null,
      "outputs": [
        {
          "output_type": "stream",
          "name": "stdout",
          "text": [
            "['URBANO', 'RURAL']\n",
            "Categories (2, object): ['RURAL', 'URBANO']\n",
            "['Casa Formal', 'Apartamento', 'Otro', 'Casa Improvisada', 'Cuarto en casa de vecindad (palomar)', 'Rancho', 'Colectivo', 'Personas sin local de habitación']\n",
            "Categories (8, object): ['Apartamento', 'Casa Formal', 'Casa Improvisada', 'Colectivo',\n",
            "                         'Cuarto en casa de vecindad (palomar)', 'Otro', 'Personas sin local de habitación', 'Rancho']\n",
            "['Ladrillo', 'Block', 'Adobe', 'Concreto', 'Otro', 'Madera', 'Lepa, palo o caña', 'Lámina metálica', 'Bajareque', NaN]\n",
            "Categories (9, object): ['Adobe', 'Bajareque', 'Block', 'Concreto', ..., 'Lepa, palo o caña',\n",
            "                         'Lámina metálica', 'Madera', 'Otro']\n",
            "['Concreto', 'Lámina metálica', 'Otro', 'Asbesto cemento', 'Teja', 'Paja, palma o similar', NaN]\n",
            "Categories (6, object): ['Asbesto cemento', 'Concreto', 'Lámina metálica', 'Otro',\n",
            "                         'Paja, palma o similar', 'Teja']\n",
            "[5.0, 'Con personas presentes', 6.0, 4.0, 'Con personas ausentes', 'De uso temporal', NaN]\n",
            "Categories (6, object): [4.0, 5.0, 6.0, 'Con personas ausentes', 'Con personas presentes',\n",
            "                         'De uso temporal']\n",
            "[NaN, 'Ladrillo de cemento', 'Ladrillo cerámico', 'Torta de cemento', 'Tierra', 'Madera', 'Ladrillo de barro', 'Parqué', 'Otro']\n",
            "Categories (8, object): ['Ladrillo cerámico', 'Ladrillo de barro', 'Ladrillo de cemento', 'Madera', 'Otro',\n",
            "                         'Parqué', 'Tierra', 'Torta de cemento']\n",
            "[NaN, 'Dos o más personas', 'Una persona']\n",
            "Categories (2, object): ['Dos o más personas', 'Una persona']\n",
            "[NaN, 'No', 'Si']\n",
            "Categories (2, object): ['No', 'Si']\n",
            "[NaN, '2', '3', '4', '7', '6', '5', '8', '9']\n",
            "Categories (8, object): ['2', '3', '4', '5', '6', '7', '8', '9']\n"
          ]
        }
      ]
    },
    {
      "cell_type": "markdown",
      "source": [
        "Of these columns, only column 'VO4' and 'IH03' appear to have values where there\n",
        "should be labels.\n",
        "\n",
        "Let's look at the dictionary for 'IH03'."
      ],
      "metadata": {
        "id": "myV5HUUBetCO"
      }
    },
    {
      "cell_type": "code",
      "source": [
        "viviendas_meta.variable_value_labels['IH03']"
      ],
      "metadata": {
        "colab": {
          "base_uri": "https://localhost:8080/"
        },
        "id": "N31Azpvte-Jv",
        "outputId": "96bcbfb9-1ac8-4e95-b185-7ef0a39ef4d0"
      },
      "execution_count": null,
      "outputs": [
        {
          "output_type": "execute_result",
          "data": {
            "text/plain": [
              "{0.0: '0',\n",
              " 1.0: '1',\n",
              " 2.0: '2',\n",
              " 3.0: '3',\n",
              " 4.0: '4',\n",
              " 5.0: '5',\n",
              " 6.0: '6',\n",
              " 7.0: '7',\n",
              " 8.0: '8',\n",
              " 9.0: '9'}"
            ]
          },
          "metadata": {},
          "execution_count": 36
        }
      ]
    },
    {
      "cell_type": "markdown",
      "source": [
        "Ah ha! We can see that this is working correctly although it may have been an\n",
        "unexpected choice by the database developer. In fact, we can review the \n",
        "column labels to see that IH03 is the column labeled `'Cuántos grupos de \n",
        "personas preparan sus alimentos por separado', a numeric field.\n",
        "\n",
        "We'll need to explore the source data more to understand why all of the \n",
        "labels for column 'V04' are not present. These types of issues are not\n",
        "at all uncommon when working with datasets. Cleaning data is an important\n",
        "and challenging step in the data lifecycle!"
      ],
      "metadata": {
        "id": "AJoZR0gOfR20"
      }
    },
    {
      "cell_type": "markdown",
      "source": [
        "## Replace column names with more descriptive column names.\n",
        "Finally, we'll change our column headers to be more descriptive so the dataset is human-readable. We can use `pandas` `rename` method, passing the dictionary\n",
        "`column_names_to_labels` to the `columns` parameter. \n",
        "\n",
        "After renaming the columns, we can print out the DataFrame to confirm it worked.\n",
        "Note that we need to do this after replacing the codes so that pyreadstat can\n",
        "match the column names as provided when we call `set_value_labels`.\n",
        "\n",
        "More information on this method can, of course, be found in the [documentation](https://pandas.pydata.org/docs/reference/api/pandas.DataFrame.rename.html)."
      ],
      "metadata": {
        "id": "wzyappDEXeIi"
      }
    },
    {
      "cell_type": "code",
      "source": [
        "viviendas_df = viviendas_df.rename(\n",
        "    columns=viviendas_meta.column_names_to_labels\n",
        "    )\n",
        "viviendas_df.head()"
      ],
      "metadata": {
        "colab": {
          "base_uri": "https://localhost:8080/",
          "height": 320
        },
        "id": "_9L9h5VpZEjE",
        "outputId": "15d48767-a5dd-4a6a-e017-98077789bee1"
      },
      "execution_count": null,
      "outputs": [
        {
          "output_type": "execute_result",
          "data": {
            "text/plain": [
              "  Departamento     Municipio  URBRUR  NUMVIV  AREA  \\\n",
              "0    Guatemala     Guatemala  URBANO     1.0   1.0   \n",
              "1    Guatemala  San Raymundo   RURAL     2.0   1.0   \n",
              "2    Guatemala     Fraijanes  URBANO     3.0   1.0   \n",
              "3    Guatemala     Guatemala  URBANO     4.0   1.0   \n",
              "4    Guatemala     Guatemala  URBANO     5.0   1.0   \n",
              "\n",
              "  Tipo del local de habitación  \\\n",
              "0                  Casa Formal   \n",
              "1                  Casa Formal   \n",
              "2                  Casa Formal   \n",
              "3                  Casa Formal   \n",
              "4                  Casa Formal   \n",
              "\n",
              "  Material predominante en las paredes exteriores  \\\n",
              "0                                        Ladrillo   \n",
              "1                                        Ladrillo   \n",
              "2                                           Block   \n",
              "3                                           Block   \n",
              "4                                           Block   \n",
              "\n",
              "  Material predominante en el techo Local de habitación  esta:  \\\n",
              "0                          Concreto                        5.0   \n",
              "1                          Concreto                        5.0   \n",
              "2                          Concreto                        5.0   \n",
              "3                          Concreto                        5.0   \n",
              "4                          Concreto                        5.0   \n",
              "\n",
              "  Material predominante en el piso  \\\n",
              "0                              NaN   \n",
              "1                              NaN   \n",
              "2                              NaN   \n",
              "3                              NaN   \n",
              "4                              NaN   \n",
              "\n",
              "  Cuántas personas viven en el local de habitación  \\\n",
              "0                                              NaN   \n",
              "1                                              NaN   \n",
              "2                                              NaN   \n",
              "3                                              NaN   \n",
              "4                                              NaN   \n",
              "\n",
              "  Estan personas preparan por separado los alimentos  \\\n",
              "0                                                NaN   \n",
              "1                                                NaN   \n",
              "2                                                NaN   \n",
              "3                                                NaN   \n",
              "4                                                NaN   \n",
              "\n",
              "  Cuántos grupos de personas preparan sus alimentos por separado  \n",
              "0                                                NaN              \n",
              "1                                                NaN              \n",
              "2                                                NaN              \n",
              "3                                                NaN              \n",
              "4                                                NaN              "
            ],
            "text/html": [
              "\n",
              "  <div id=\"df-d6ccb5c0-6214-477d-af44-16da4bc119d7\">\n",
              "    <div class=\"colab-df-container\">\n",
              "      <div>\n",
              "<style scoped>\n",
              "    .dataframe tbody tr th:only-of-type {\n",
              "        vertical-align: middle;\n",
              "    }\n",
              "\n",
              "    .dataframe tbody tr th {\n",
              "        vertical-align: top;\n",
              "    }\n",
              "\n",
              "    .dataframe thead th {\n",
              "        text-align: right;\n",
              "    }\n",
              "</style>\n",
              "<table border=\"1\" class=\"dataframe\">\n",
              "  <thead>\n",
              "    <tr style=\"text-align: right;\">\n",
              "      <th></th>\n",
              "      <th>Departamento</th>\n",
              "      <th>Municipio</th>\n",
              "      <th>URBRUR</th>\n",
              "      <th>NUMVIV</th>\n",
              "      <th>AREA</th>\n",
              "      <th>Tipo del local de habitación</th>\n",
              "      <th>Material predominante en las paredes exteriores</th>\n",
              "      <th>Material predominante en el techo</th>\n",
              "      <th>Local de habitación  esta:</th>\n",
              "      <th>Material predominante en el piso</th>\n",
              "      <th>Cuántas personas viven en el local de habitación</th>\n",
              "      <th>Estan personas preparan por separado los alimentos</th>\n",
              "      <th>Cuántos grupos de personas preparan sus alimentos por separado</th>\n",
              "    </tr>\n",
              "  </thead>\n",
              "  <tbody>\n",
              "    <tr>\n",
              "      <th>0</th>\n",
              "      <td>Guatemala</td>\n",
              "      <td>Guatemala</td>\n",
              "      <td>URBANO</td>\n",
              "      <td>1.0</td>\n",
              "      <td>1.0</td>\n",
              "      <td>Casa Formal</td>\n",
              "      <td>Ladrillo</td>\n",
              "      <td>Concreto</td>\n",
              "      <td>5.0</td>\n",
              "      <td>NaN</td>\n",
              "      <td>NaN</td>\n",
              "      <td>NaN</td>\n",
              "      <td>NaN</td>\n",
              "    </tr>\n",
              "    <tr>\n",
              "      <th>1</th>\n",
              "      <td>Guatemala</td>\n",
              "      <td>San Raymundo</td>\n",
              "      <td>RURAL</td>\n",
              "      <td>2.0</td>\n",
              "      <td>1.0</td>\n",
              "      <td>Casa Formal</td>\n",
              "      <td>Ladrillo</td>\n",
              "      <td>Concreto</td>\n",
              "      <td>5.0</td>\n",
              "      <td>NaN</td>\n",
              "      <td>NaN</td>\n",
              "      <td>NaN</td>\n",
              "      <td>NaN</td>\n",
              "    </tr>\n",
              "    <tr>\n",
              "      <th>2</th>\n",
              "      <td>Guatemala</td>\n",
              "      <td>Fraijanes</td>\n",
              "      <td>URBANO</td>\n",
              "      <td>3.0</td>\n",
              "      <td>1.0</td>\n",
              "      <td>Casa Formal</td>\n",
              "      <td>Block</td>\n",
              "      <td>Concreto</td>\n",
              "      <td>5.0</td>\n",
              "      <td>NaN</td>\n",
              "      <td>NaN</td>\n",
              "      <td>NaN</td>\n",
              "      <td>NaN</td>\n",
              "    </tr>\n",
              "    <tr>\n",
              "      <th>3</th>\n",
              "      <td>Guatemala</td>\n",
              "      <td>Guatemala</td>\n",
              "      <td>URBANO</td>\n",
              "      <td>4.0</td>\n",
              "      <td>1.0</td>\n",
              "      <td>Casa Formal</td>\n",
              "      <td>Block</td>\n",
              "      <td>Concreto</td>\n",
              "      <td>5.0</td>\n",
              "      <td>NaN</td>\n",
              "      <td>NaN</td>\n",
              "      <td>NaN</td>\n",
              "      <td>NaN</td>\n",
              "    </tr>\n",
              "    <tr>\n",
              "      <th>4</th>\n",
              "      <td>Guatemala</td>\n",
              "      <td>Guatemala</td>\n",
              "      <td>URBANO</td>\n",
              "      <td>5.0</td>\n",
              "      <td>1.0</td>\n",
              "      <td>Casa Formal</td>\n",
              "      <td>Block</td>\n",
              "      <td>Concreto</td>\n",
              "      <td>5.0</td>\n",
              "      <td>NaN</td>\n",
              "      <td>NaN</td>\n",
              "      <td>NaN</td>\n",
              "      <td>NaN</td>\n",
              "    </tr>\n",
              "  </tbody>\n",
              "</table>\n",
              "</div>\n",
              "      <button class=\"colab-df-convert\" onclick=\"convertToInteractive('df-d6ccb5c0-6214-477d-af44-16da4bc119d7')\"\n",
              "              title=\"Convert this dataframe to an interactive table.\"\n",
              "              style=\"display:none;\">\n",
              "        \n",
              "  <svg xmlns=\"http://www.w3.org/2000/svg\" height=\"24px\"viewBox=\"0 0 24 24\"\n",
              "       width=\"24px\">\n",
              "    <path d=\"M0 0h24v24H0V0z\" fill=\"none\"/>\n",
              "    <path d=\"M18.56 5.44l.94 2.06.94-2.06 2.06-.94-2.06-.94-.94-2.06-.94 2.06-2.06.94zm-11 1L8.5 8.5l.94-2.06 2.06-.94-2.06-.94L8.5 2.5l-.94 2.06-2.06.94zm10 10l.94 2.06.94-2.06 2.06-.94-2.06-.94-.94-2.06-.94 2.06-2.06.94z\"/><path d=\"M17.41 7.96l-1.37-1.37c-.4-.4-.92-.59-1.43-.59-.52 0-1.04.2-1.43.59L10.3 9.45l-7.72 7.72c-.78.78-.78 2.05 0 2.83L4 21.41c.39.39.9.59 1.41.59.51 0 1.02-.2 1.41-.59l7.78-7.78 2.81-2.81c.8-.78.8-2.07 0-2.86zM5.41 20L4 18.59l7.72-7.72 1.47 1.35L5.41 20z\"/>\n",
              "  </svg>\n",
              "      </button>\n",
              "      \n",
              "  <style>\n",
              "    .colab-df-container {\n",
              "      display:flex;\n",
              "      flex-wrap:wrap;\n",
              "      gap: 12px;\n",
              "    }\n",
              "\n",
              "    .colab-df-convert {\n",
              "      background-color: #E8F0FE;\n",
              "      border: none;\n",
              "      border-radius: 50%;\n",
              "      cursor: pointer;\n",
              "      display: none;\n",
              "      fill: #1967D2;\n",
              "      height: 32px;\n",
              "      padding: 0 0 0 0;\n",
              "      width: 32px;\n",
              "    }\n",
              "\n",
              "    .colab-df-convert:hover {\n",
              "      background-color: #E2EBFA;\n",
              "      box-shadow: 0px 1px 2px rgba(60, 64, 67, 0.3), 0px 1px 3px 1px rgba(60, 64, 67, 0.15);\n",
              "      fill: #174EA6;\n",
              "    }\n",
              "\n",
              "    [theme=dark] .colab-df-convert {\n",
              "      background-color: #3B4455;\n",
              "      fill: #D2E3FC;\n",
              "    }\n",
              "\n",
              "    [theme=dark] .colab-df-convert:hover {\n",
              "      background-color: #434B5C;\n",
              "      box-shadow: 0px 1px 3px 1px rgba(0, 0, 0, 0.15);\n",
              "      filter: drop-shadow(0px 1px 2px rgba(0, 0, 0, 0.3));\n",
              "      fill: #FFFFFF;\n",
              "    }\n",
              "  </style>\n",
              "\n",
              "      <script>\n",
              "        const buttonEl =\n",
              "          document.querySelector('#df-d6ccb5c0-6214-477d-af44-16da4bc119d7 button.colab-df-convert');\n",
              "        buttonEl.style.display =\n",
              "          google.colab.kernel.accessAllowed ? 'block' : 'none';\n",
              "\n",
              "        async function convertToInteractive(key) {\n",
              "          const element = document.querySelector('#df-d6ccb5c0-6214-477d-af44-16da4bc119d7');\n",
              "          const dataTable =\n",
              "            await google.colab.kernel.invokeFunction('convertToInteractive',\n",
              "                                                     [key], {});\n",
              "          if (!dataTable) return;\n",
              "\n",
              "          const docLinkHtml = 'Like what you see? Visit the ' +\n",
              "            '<a target=\"_blank\" href=https://colab.research.google.com/notebooks/data_table.ipynb>data table notebook</a>'\n",
              "            + ' to learn more about interactive tables.';\n",
              "          element.innerHTML = '';\n",
              "          dataTable['output_type'] = 'display_data';\n",
              "          await google.colab.output.renderOutput(dataTable, element);\n",
              "          const docLink = document.createElement('div');\n",
              "          docLink.innerHTML = docLinkHtml;\n",
              "          element.appendChild(docLink);\n",
              "        }\n",
              "      </script>\n",
              "    </div>\n",
              "  </div>\n",
              "  "
            ]
          },
          "metadata": {},
          "execution_count": 37
        }
      ]
    },
    {
      "cell_type": "markdown",
      "source": [
        "## Repeat for additional datasets\n",
        "If you have more than one dataset in SPSS format, you'll want to repeat the\n",
        "above code for each dataset. We can do this more efficiently with a function.\n",
        "Recall that we first read in the data, then used the `set_value_labels` method\n",
        "to replace values with labels, and finally renamed the columns."
      ],
      "metadata": {
        "id": "09wo_P26iVq_"
      }
    },
    {
      "cell_type": "code",
      "source": [
        "def read_spss(sav_file):\n",
        "  \"\"\"returns a dataframe in human-readable format and metadata\"\"\"\n",
        "  df, meta = pyreadstat.read_sav(sav_file)\n",
        "  df = pyreadstat.set_value_labels(df, meta)\n",
        "  df = df.rename(columns=meta.column_names_to_labels)\n",
        "  \n",
        "  return df, meta\n",
        "\n"
      ],
      "metadata": {
        "id": "aB53zZvqiVQp"
      },
      "execution_count": null,
      "outputs": []
    },
    {
      "cell_type": "markdown",
      "source": [
        "However, note that we did not automate the careful cleaning we did previously.\n",
        "Make sure to also explore the data after running this function."
      ],
      "metadata": {
        "id": "LifHjMSFjc9l"
      }
    },
    {
      "cell_type": "markdown",
      "source": [
        "## Save data to file\n",
        "You may want to save the data file out in a non-proprietary format so we can \n",
        "access it later and share it with others. We'll use the `pandas` method \n",
        "`to_csv`. See the documentation for this method [here](https://pandas.pydata.org/docs/reference/api/pandas.DataFrame.to_csv.html)."
      ],
      "metadata": {
        "id": "a_o5_QdXgnBI"
      }
    },
    {
      "cell_type": "code",
      "source": [
        "viviendas_df.to_csv('viviendas_df.csv')"
      ],
      "metadata": {
        "id": "gEDBWUWrgxpz"
      },
      "execution_count": null,
      "outputs": []
    },
    {
      "cell_type": "markdown",
      "source": [
        "After running the above code, go to the file pane in the left sidebar and click\n",
        "refresh (folder with a circular arrow) to show the newly saved data. Then click\n",
        "the three dots and select download to save it to your local machine. It may \n",
        "take a while, this is a big file!\n",
        "\n",
        "You may find in fact that this file is too big for Excel or Google Sheets.\n",
        "Almost certainly it will be too big to extract any meaningful insights from \n",
        "using Excel or Google Sheets. Instead, consider exploring the `pandas` package\n",
        "more to analyze these data."
      ],
      "metadata": {
        "id": "q6qgXXm2iMTl"
      }
    },
    {
      "cell_type": "markdown",
      "source": [
        "## Aggregate data by municipality\n",
        "Let's aggregate the data  by municipality to reduce the file size and make\n",
        "the data more useful for geospatial analyses."
      ],
      "metadata": {
        "id": "x8Ix92X_wHnt"
      }
    },
    {
      "cell_type": "markdown",
      "source": [
        "### Simple aggregations"
      ],
      "metadata": {
        "id": "7nQqL41bwROc"
      }
    },
    {
      "cell_type": "code",
      "source": [],
      "metadata": {
        "id": "IDiQ_HR-wv36"
      },
      "execution_count": null,
      "outputs": []
    },
    {
      "cell_type": "markdown",
      "source": [
        "### Aggregate and Pivot"
      ],
      "metadata": {
        "id": "Kq0h29-twaSe"
      }
    },
    {
      "cell_type": "code",
      "source": [],
      "metadata": {
        "id": "Zp4tHe-gwyIx"
      },
      "execution_count": null,
      "outputs": []
    },
    {
      "cell_type": "code",
      "source": [],
      "metadata": {
        "id": "4fvmAgfulk05"
      },
      "execution_count": null,
      "outputs": []
    }
  ]
}